{
 "cells": [
  {
   "cell_type": "code",
   "execution_count": 1,
   "id": "655e3773-c06d-43cc-85fd-8713b3c33951",
   "metadata": {},
   "outputs": [
    {
     "data": {
      "text/plain": [
       "35"
      ]
     },
     "execution_count": 1,
     "metadata": {},
     "output_type": "execute_result"
    }
   ],
   "source": [
    "7*5\n",
    "\n",
    "\n"
   ]
  },
  {
   "cell_type": "code",
   "execution_count": 2,
   "id": "b33938ae-00db-4611-af42-613446632cd1",
   "metadata": {},
   "outputs": [
    {
     "data": {
      "text/plain": [
       "12.5"
      ]
     },
     "execution_count": 2,
     "metadata": {},
     "output_type": "execute_result"
    }
   ],
   "source": [
    "25/2"
   ]
  },
  {
   "cell_type": "code",
   "execution_count": 3,
   "id": "205dd17b-5f38-47a8-9eb2-237075e1bfac",
   "metadata": {},
   "outputs": [
    {
     "name": "stdout",
     "output_type": "stream",
     "text": [
      "hello\n"
     ]
    }
   ],
   "source": [
    "print(\"hello\")"
   ]
  },
  {
   "cell_type": "code",
   "execution_count": 1,
   "id": "e812756a-5c7f-4e5c-8b55-c44c42abecc5",
   "metadata": {},
   "outputs": [
    {
     "name": "stdout",
     "output_type": "stream",
     "text": [
      "1 to 10\n"
     ]
    }
   ],
   "source": [
    "print(\"1 to 10\")"
   ]
  },
  {
   "cell_type": "code",
   "execution_count": 2,
   "id": "d3ff7969-8d13-40b1-8b3d-657dc6b66c63",
   "metadata": {},
   "outputs": [
    {
     "name": "stdout",
     "output_type": "stream",
     "text": [
      "priyanka is the sister of kamal\n"
     ]
    }
   ],
   "source": [
    "print(\"priyanka is the sister of kamal\")"
   ]
  },
  {
   "cell_type": "code",
   "execution_count": 1,
   "id": "36b144d7-d2e5-4140-9b4f-e24302f7bbe5",
   "metadata": {},
   "outputs": [
    {
     "name": "stdout",
     "output_type": "stream",
     "text": [
      "Manju call\n"
     ]
    }
   ],
   "source": [
    "print(\"Manju call\")"
   ]
  },
  {
   "cell_type": "code",
   "execution_count": 2,
   "id": "85f7b78d-f65e-49c8-b761-7b001014a74b",
   "metadata": {},
   "outputs": [
    {
     "name": "stdout",
     "output_type": "stream",
     "text": [
      "9\n"
     ]
    }
   ],
   "source": [
    "a=2\n",
    "b=7\n",
    "print(a+b)"
   ]
  },
  {
   "cell_type": "code",
   "execution_count": 1,
   "id": "e58ee406-2089-4185-94b0-f9511e777f96",
   "metadata": {},
   "outputs": [
    {
     "name": "stdout",
     "output_type": "stream",
     "text": [
      "manju maa call\n"
     ]
    }
   ],
   "source": [
    "print(\"manju maa call\")"
   ]
  },
  {
   "cell_type": "raw",
   "id": "ab609029-7c82-4313-99a0-a00358768f5d",
   "metadata": {},
   "source": [
    "kamal is a good boy"
   ]
  },
  {
   "cell_type": "raw",
   "id": "9d97d39d-227c-460f-ad77-2e908d7464e8",
   "metadata": {},
   "source": [
    "kamal is a nice"
   ]
  },
  {
   "cell_type": "code",
   "execution_count": 9,
   "id": "bddd0161-839a-4bc2-b1d5-bcba8d11e559",
   "metadata": {},
   "outputs": [],
   "source": [
    "a= \"kamal\""
   ]
  },
  {
   "cell_type": "code",
   "execution_count": 10,
   "id": "af728d4c-a4ab-40e5-bd82-1e282f48ed35",
   "metadata": {},
   "outputs": [
    {
     "data": {
      "text/plain": [
       "'kamal'"
      ]
     },
     "execution_count": 10,
     "metadata": {},
     "output_type": "execute_result"
    }
   ],
   "source": [
    "a"
   ]
  },
  {
   "cell_type": "code",
   "execution_count": 11,
   "id": "248a773f-0728-4ff1-9c53-d2a70f783ee6",
   "metadata": {},
   "outputs": [
    {
     "data": {
      "text/plain": [
       "'k'"
      ]
     },
     "execution_count": 11,
     "metadata": {},
     "output_type": "execute_result"
    }
   ],
   "source": [
    "a[0]"
   ]
  },
  {
   "cell_type": "code",
   "execution_count": 12,
   "id": "b4b60dbe-88ff-4419-9c2a-6b5e777d35db",
   "metadata": {},
   "outputs": [
    {
     "data": {
      "text/plain": [
       "'a'"
      ]
     },
     "execution_count": 12,
     "metadata": {},
     "output_type": "execute_result"
    }
   ],
   "source": [
    "a[3]"
   ]
  },
  {
   "cell_type": "code",
   "execution_count": 13,
   "id": "4197e271-7b79-4570-98bb-470529435f37",
   "metadata": {},
   "outputs": [
    {
     "data": {
      "text/plain": [
       "'m'"
      ]
     },
     "execution_count": 13,
     "metadata": {},
     "output_type": "execute_result"
    }
   ],
   "source": [
    "a[-3]"
   ]
  },
  {
   "cell_type": "code",
   "execution_count": 31,
   "id": "e136be03-8740-4a02-b1dc-e374d4784fea",
   "metadata": {},
   "outputs": [],
   "source": [
    "list_cont= [1, 2, 3, 4, 5]"
   ]
  },
  {
   "cell_type": "code",
   "execution_count": 29,
   "id": "04c5a142-4f79-4859-923c-3f8fedd48dff",
   "metadata": {},
   "outputs": [
    {
     "data": {
      "text/plain": [
       "[1, (2+3j), 'priyanka', 2.3, True]"
      ]
     },
     "execution_count": 29,
     "metadata": {},
     "output_type": "execute_result"
    }
   ],
   "source": [
    "list_cont"
   ]
  },
  {
   "cell_type": "code",
   "execution_count": null,
   "id": "d782b235-a2d7-484e-ae43-2538ab255614",
   "metadata": {},
   "outputs": [],
   "source": [
    "list_cont= [ 1, 2.3, \"manju\", True]"
   ]
  },
  {
   "cell_type": "code",
   "execution_count": 32,
   "id": "45ba2b84-85da-4256-832e-09e4af9f0d7f",
   "metadata": {},
   "outputs": [
    {
     "data": {
      "text/plain": [
       "[1, 2, 3, 4, 5]"
      ]
     },
     "execution_count": 32,
     "metadata": {},
     "output_type": "execute_result"
    }
   ],
   "source": [
    "list_cont"
   ]
  },
  {
   "cell_type": "code",
   "execution_count": 2,
   "id": "745345ca-846e-432d-972b-87448681f257",
   "metadata": {},
   "outputs": [
    {
     "data": {
      "text/plain": [
       "[1, 4, 4.2, True, 'kamal']"
      ]
     },
     "execution_count": 2,
     "metadata": {},
     "output_type": "execute_result"
    }
   ],
   "source": [
    "list_cont= [ 1, 4, 4.2, True, \"kamal\"]\n",
    "list_cont"
   ]
  },
  {
   "cell_type": "code",
   "execution_count": 7,
   "id": "80e4b4dd-89ac-4a6e-ad89-6440333043a0",
   "metadata": {},
   "outputs": [
    {
     "data": {
      "text/plain": [
       "['pokemom', 4, 4.2, True, 'kamal']"
      ]
     },
     "execution_count": 7,
     "metadata": {},
     "output_type": "execute_result"
    }
   ],
   "source": [
    "list_cont[0]= \"pokemom\"\n",
    "list_cont"
   ]
  },
  {
   "cell_type": "code",
   "execution_count": 11,
   "id": "0ffc698f-3bb6-4fc1-9cba-08c957a674ac",
   "metadata": {},
   "outputs": [
    {
     "data": {
      "text/plain": [
       "['pokemom', 4, 4.2, True, 'priyanka']"
      ]
     },
     "execution_count": 11,
     "metadata": {},
     "output_type": "execute_result"
    }
   ],
   "source": [
    "list_cont[4]= \"priyanka\"\n",
    "list_cont"
   ]
  },
  {
   "cell_type": "code",
   "execution_count": 16,
   "id": "b984d5fb-8eb8-4af9-a602-0c68c695d47f",
   "metadata": {},
   "outputs": [
    {
     "name": "stdout",
     "output_type": "stream",
     "text": [
      "7\n"
     ]
    }
   ],
   "source": [
    "a=5\n",
    "b=2\n",
    "print(a+b)"
   ]
  },
  {
   "cell_type": "code",
   "execution_count": 17,
   "id": "65fcfb6a-3944-424b-98e1-6473399fb300",
   "metadata": {},
   "outputs": [
    {
     "name": "stdout",
     "output_type": "stream",
     "text": [
      "6.0\n"
     ]
    }
   ],
   "source": [
    "a=30\n",
    "b=5\n",
    "print(a/b)"
   ]
  },
  {
   "cell_type": "code",
   "execution_count": 29,
   "id": "0df75e52-7025-4a76-951a-8e107e2c39b1",
   "metadata": {},
   "outputs": [],
   "source": [
    "a= \"singh\""
   ]
  },
  {
   "cell_type": "code",
   "execution_count": 28,
   "id": "c274c8e4-1ca9-410d-a59c-fce61f1c5f38",
   "metadata": {},
   "outputs": [
    {
     "data": {
      "text/plain": [
       "[0]"
      ]
     },
     "execution_count": 28,
     "metadata": {},
     "output_type": "execute_result"
    }
   ],
   "source": [
    "a"
   ]
  },
  {
   "cell_type": "code",
   "execution_count": 1,
   "id": "4356438e-1108-4878-bda4-73e5caccc3b2",
   "metadata": {},
   "outputs": [
    {
     "data": {
      "text/plain": [
       "'kamal'"
      ]
     },
     "execution_count": 1,
     "metadata": {},
     "output_type": "execute_result"
    }
   ],
   "source": [
    "d=\"kamal\"\n",
    "d"
   ]
  },
  {
   "cell_type": "code",
   "execution_count": 2,
   "id": "47ffe719-6907-4fe6-a304-e7a84f9bbc0d",
   "metadata": {},
   "outputs": [
    {
     "data": {
      "text/plain": [
       "'k'"
      ]
     },
     "execution_count": 2,
     "metadata": {},
     "output_type": "execute_result"
    }
   ],
   "source": [
    "d[0]"
   ]
  },
  {
   "cell_type": "code",
   "execution_count": 3,
   "id": "874c0e38-1e49-409a-8d6f-860ef3ec4f6e",
   "metadata": {},
   "outputs": [
    {
     "data": {
      "text/plain": [
       "'a'"
      ]
     },
     "execution_count": 3,
     "metadata": {},
     "output_type": "execute_result"
    }
   ],
   "source": [
    "d[3]"
   ]
  },
  {
   "cell_type": "code",
   "execution_count": 5,
   "id": "6dd2cb6b-4b75-49fb-aacc-2adc1400e63a",
   "metadata": {},
   "outputs": [],
   "source": [
    "a=5.2\n",
    "int(a)\n",
    "float_value= int(a)\n"
   ]
  },
  {
   "cell_type": "code",
   "execution_count": 6,
   "id": "a0072801-2fc0-4fe7-ae3c-7b5f29d9b657",
   "metadata": {},
   "outputs": [
    {
     "data": {
      "text/plain": [
       "int"
      ]
     },
     "execution_count": 6,
     "metadata": {},
     "output_type": "execute_result"
    }
   ],
   "source": [
    "type(float_value)"
   ]
  },
  {
   "cell_type": "code",
   "execution_count": 10,
   "id": "be31d240-e203-4bcb-bd0f-24e88e4dffd2",
   "metadata": {},
   "outputs": [
    {
     "data": {
      "text/plain": [
       "float"
      ]
     },
     "execution_count": 10,
     "metadata": {},
     "output_type": "execute_result"
    }
   ],
   "source": [
    "a=2\n",
    "float(a)\n",
    "int_value=float(a)\n",
    "type(int_value)"
   ]
  },
  {
   "cell_type": "code",
   "execution_count": 13,
   "id": "33c0ca04-ade0-4e68-835a-26710a914296",
   "metadata": {},
   "outputs": [
    {
     "data": {
      "text/plain": [
       "float"
      ]
     },
     "execution_count": 13,
     "metadata": {},
     "output_type": "execute_result"
    }
   ],
   "source": [
    "a= \"5.5\"\n",
    "float(a)\n",
    "int_value= float(a)\n",
    "type(int_value)"
   ]
  },
  {
   "cell_type": "code",
   "execution_count": 21,
   "id": "00f2d22d-74cb-4ca4-8e85-573cb6ac6033",
   "metadata": {},
   "outputs": [
    {
     "data": {
      "text/plain": [
       "False"
      ]
     },
     "execution_count": 21,
     "metadata": {},
     "output_type": "execute_result"
    }
   ],
   "source": [
    "bool(0)"
   ]
  },
  {
   "cell_type": "code",
   "execution_count": null,
   "id": "b1fa962a-9688-4a06-a734-3081c5aec27c",
   "metadata": {},
   "outputs": [],
   "source": []
  },
  {
   "cell_type": "code",
   "execution_count": null,
   "id": "9e7091c1-8e3e-476d-b577-f3e1eb06d580",
   "metadata": {},
   "outputs": [],
   "source": []
  }
 ],
 "metadata": {
  "kernelspec": {
   "display_name": "Python 3 (ipykernel)",
   "language": "python",
   "name": "python3"
  },
  "language_info": {
   "codemirror_mode": {
    "name": "ipython",
    "version": 3
   },
   "file_extension": ".py",
   "mimetype": "text/x-python",
   "name": "python",
   "nbconvert_exporter": "python",
   "pygments_lexer": "ipython3",
   "version": "3.12.7"
  }
 },
 "nbformat": 4,
 "nbformat_minor": 5
}
