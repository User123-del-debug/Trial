{
 "cells": [
  {
   "cell_type": "raw",
   "id": "d3b26fc4-215f-4e34-96d7-e20d93559275",
   "metadata": {},
   "source": [
    "1) What is Object-Oriented Programming (OOP)?\n",
    "- Object-Oriented Programming (OOP) is a programming paradigm based on the concept of \"objects,\" which are instances of classes. These objects can contain data (in the form of fields or attributes) and code (in the form of methods or functions)."
   ]
  },
  {
   "cell_type": "raw",
   "id": "9134be27-d91e-441c-89c7-176c7b80a09c",
   "metadata": {},
   "source": [
    "2) What is a class in OOP? \n",
    "- A class defines:\n",
    "\n",
    "Attributes (also called fields or properties): the data that an object will hold.\n",
    "\n",
    "Methods (also called functions): the behaviors or actions the object can perform.\n",
    "\n",
    "You can think of a class like a cookie cutter and the objects created from it as cookies."
   ]
  },
  {
   "cell_type": "raw",
   "id": "4ad36abb-d978-4301-95e0-15ce6a0205d9",
   "metadata": {},
   "source": [
    "3)  What is an object in OOP?\n",
    "- An object represents a real-world entity created using the structure defined by a class.\n",
    "\n",
    "It contains data (stored in attributes) and behavior (defined by methods).\n",
    "\n",
    "While a class is just a blueprint, an object is the actual working thing based on that blueprint.\n",
    "\n"
   ]
  },
  {
   "cell_type": "raw",
   "id": "248661db-f31b-45b9-b6a1-09103f99161b",
   "metadata": {},
   "source": [
    "4) What is the difference between abstraction and encapsulation?\n",
    "- Abstraction: Hiding complex implementation details and showing only the essential features to the user\n",
    "-purpose: To simplify complexity for the user\n",
    "\n",
    "Encapsulation: Wrapping data (attributes) and methods (functions) into a single unit (class), and restricting direct access\n",
    "purpose: To protect data and enforce rules"
   ]
  },
  {
   "cell_type": "raw",
   "id": "d3b36d4a-c429-478f-acfc-c35ef600e173",
   "metadata": {},
   "source": [
    "5) What are dunder methods in Python?\n",
    "- In Python, dunder methods (short for \"double underscore methods\") are special built-in methods that start and end with double underscores, like __init__, __str__, and __len__.\n",
    "\n",
    "They are also known as:\n",
    "\n",
    "Magic methods\n",
    "\n",
    "Special methods\n",
    "\n",
    "These methods are automatically called by Python when you use certain syntax or operations."
   ]
  },
  {
   "cell_type": "raw",
   "id": "3c603b81-59aa-4ac0-a67c-d4754965e4ae",
   "metadata": {},
   "source": [
    "6) Explain the concept of inheritance in OOP ?\n",
    "- Inheritance is a core concept in Object-Oriented Programming (OOP) that allows a class (child or subclass) to inherit properties and behaviors (methods and attributes) from another class (parent or superclass).\n",
    "\n",
    "It's like saying:\n",
    "\n",
    "\"This new class is a specialized version of that existing class.\""
   ]
  },
  {
   "cell_type": "raw",
   "id": "53162888-9f80-49c3-b1c7-16d7b6ad3ce6",
   "metadata": {},
   "source": [
    "7) What is polymorphism in OOP?\n",
    "- Polymorphism (from Greek: poly = many, morph = forms) is a key concept in Object-Oriented Programming (OOP) that allows different objects to be treated the same way — even if they behave differently.\n",
    "\n",
    "In simple terms:\n",
    "\n",
    "Polymorphism allows you to write code that works on objects of different classes, as long as they implement the same interface or method."
   ]
  },
  {
   "cell_type": "raw",
   "id": "3398e62c-9b62-46a5-a8f1-8efd8b73412e",
   "metadata": {},
   "source": [
    "8)  How is encapsulation achieved in Python?\n",
    "- Encapsulation in Python is the practice of hiding internal object details and restricting direct access to an object’s attributes and methods. It helps protect data and control how it's accessed or modified."
   ]
  },
  {
   "cell_type": "raw",
   "id": "c0674815-42ee-4fa9-a469-62336a41e592",
   "metadata": {},
   "source": [
    "9) What is a constructor in Python?\n",
    "- A constructor in Python is a special method used to initialize a new object when it is created from a class.\n",
    "\n",
    "In Python, the constructor method is called:\n",
    "\n",
    "python\n",
    "Copy\n",
    "Edit\n",
    "__init__()\n",
    "It’s automatically called when you create an instance of a class.\n",
    "\n"
   ]
  },
  {
   "cell_type": "raw",
   "id": "649e62ad-870c-47b9-aa1f-d4f0eb97bf80",
   "metadata": {},
   "source": [
    "10) What are class and static methods in Python?\n",
    "- n Python, class methods and static methods are two types of methods that are not bound to an instance, but to the class itself.\n",
    "\n",
    "They’re defined using decorators:\n",
    "\n",
    "@classmethod\n",
    "\n",
    "@staticmethod\n",
    "\n"
   ]
  },
  {
   "cell_type": "raw",
   "id": "10811bc0-f5cb-43ef-82f4-8dd873d3cfb3",
   "metadata": {},
   "source": [
    "11)  What is method overloading in Python?\n",
    "- Method overloading means defining multiple methods with the same name but different parameters (different number or types of arguments) in the same class.\n",
    "\n",
    "It’s common in many programming languages like Java or C++, where the compiler decides which method to call based on the arguments."
   ]
  },
  {
   "cell_type": "raw",
   "id": "5fa87118-0c45-4d9c-b271-d73a1cab2b4d",
   "metadata": {},
   "source": [
    "12) What is method overriding in OOP?\n",
    "- Method overriding is a fundamental concept in Object-Oriented Programming (OOP) where a subclass provides its own implementation of a method that is already defined in its parent class.\n",
    "\n"
   ]
  },
  {
   "cell_type": "raw",
   "id": "8b703d73-dc1d-452a-9a21-92b5e8f4711e",
   "metadata": {},
   "source": [
    "13) What is a property decorator in Python?\n",
    "- The @property decorator in Python is a built-in way to define methods that behave like attributes. It allows you to access a method like it’s a regular attribute while still keeping the benefits of a method (like computing a value on the fly or adding validation)."
   ]
  },
  {
   "cell_type": "raw",
   "id": "25bde238-243f-4832-a646-b9acf21c9b46",
   "metadata": {},
   "source": [
    "14) Why is polymorphism important in OOP?\n",
    "- Code Reusability and Flexibility\n",
    "Polymorphism allows you to write generic code that can work with objects of different classes as long as they share a common interface (e.g., they have the same method names). This means you don’t have to write multiple versions of the same function to handle different types.\n",
    "\n",
    "Simplifies Code Maintenance\n",
    "By using polymorphism, you reduce the need for complex conditionals checking object types. This makes the code easier to read, maintain, and extend.\n",
    "\n"
   ]
  },
  {
   "cell_type": "raw",
   "id": "524e5a72-d783-463f-9eb6-fa80be3ee4ea",
   "metadata": {},
   "source": [
    "15) What is an abstract class in Python?\n",
    "- An abstract class is a class that cannot be instantiated directly and is designed to be a base class for other classes. It often contains one or more abstract methods—methods declared but without implementation—which must be implemented by subclasses.\n",
    "\n",
    "Abstract classes define a common interface for a group of related classes.\n"
   ]
  },
  {
   "cell_type": "raw",
   "id": "76feb891-5ca1-441c-bd1b-1fbff5947a80",
   "metadata": {},
   "source": [
    "16) What are the advantages of OOP?\n",
    "- Modularity, Reusability, Encapsulation, Inheritance."
   ]
  },
  {
   "cell_type": "raw",
   "id": "37f7b28b-a124-44d4-ad97-0a8b46cf94de",
   "metadata": {},
   "source": [
    "17) What is the difference between a class variable and an instance variable?\n",
    "- Class Variable: A variable shared by all instances of a class\n",
    "Stored once, shared among all instances.\n",
    "\n",
    "- Instance Variable: A variable unique to each instance of a class\n",
    "Stored separately for each object instance"
   ]
  },
  {
   "cell_type": "raw",
   "id": "8e2c5259-c807-4721-a5ea-b835b9f64525",
   "metadata": {},
   "source": [
    "18) What is multiple inheritance in Python?\n",
    "- Multiple inheritance is a feature in Python where a class can inherit attributes and methods from more than one parent class."
   ]
  },
  {
   "cell_type": "raw",
   "id": "64d2304d-5519-4dae-bdf5-d7835e0a4e20",
   "metadata": {},
   "source": [
    "19) Explain the purpose of ‘’__str__’ and ‘__repr__’ ‘ methods in Python?\n",
    "- STR- Create a human-readable string representation of the object, meant for end-users.\n",
    "- repr- Create an unambiguous string representation, mainly for developers (debugging)"
   ]
  },
  {
   "cell_type": "raw",
   "id": "27024e61-a9e8-480d-abc0-78346b1005b4",
   "metadata": {},
   "source": [
    "20) Create an unambiguous string representation, mainly for developers (debugging)?\n",
    "- implement the __repr__ method in your class.\n",
    "\n",
    "The goal of __repr__ is to return a string that, ideally, looks like valid Python code that could be used to recreate the object.\n",
    "\n",
    "class Person:\n",
    "    def __init__(self, name, age):\n",
    "        self.name = name\n",
    "        self.age = age\n",
    "\n",
    "    def __repr__(self):\n",
    "        return f\"Person(name={self.name!r}, age={self.age!r})\"\n",
    "\n",
    "p = Person(\"Alice\", 30)\n",
    "print(repr(p))  # Output: Person(name='Alice', age=30)\n"
   ]
  },
  {
   "cell_type": "raw",
   "id": "d09e1816-60a8-4166-b610-af09b691161d",
   "metadata": {},
   "source": [
    "21) What is the significance of the __del__ method in Python?\n",
    "- When you want to clean up external resources (like files or network connections) when an object is no longer needed.\n",
    "\n",
    "But in practice, it’s often better to use context managers (with statements) or explicit cleanup methods because __del__ timing is unpredictable."
   ]
  },
  {
   "cell_type": "raw",
   "id": "aedec361-026d-43bc-94c0-e77115d16368",
   "metadata": {},
   "source": [
    "22) H What is the difference between @staticmethod and @classmethod in Python?\n",
    "- statistical method: Defines a method that does not receive any implicit first argument (neither self nor cls).\n",
    "- Class method: Defines a method that receives the class (cls) as the first argument"
   ]
  },
  {
   "cell_type": "raw",
   "id": "4f4860f8-9866-4c28-9027-735280f510ea",
   "metadata": {},
   "source": [
    "23) How does polymorphism work in Python with inheritance?\n",
    "With inheritance, subclasses override methods defined in a parent class, and Python will call the appropriate method depending on the actual object type — this is called dynamic dispatch."
   ]
  }
 ],
 "metadata": {
  "kernelspec": {
   "display_name": "Python 3 (ipykernel)",
   "language": "python",
   "name": "python3"
  },
  "language_info": {
   "codemirror_mode": {
    "name": "ipython",
    "version": 3
   },
   "file_extension": ".py",
   "mimetype": "text/x-python",
   "name": "python",
   "nbconvert_exporter": "python",
   "pygments_lexer": "ipython3",
   "version": "3.12.7"
  }
 },
 "nbformat": 4,
 "nbformat_minor": 5
}
